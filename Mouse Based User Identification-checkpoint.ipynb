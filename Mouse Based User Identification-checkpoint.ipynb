{
 "cells": [
  {
   "cell_type": "markdown",
   "id": "aeebb4fb",
   "metadata": {},
   "source": [
    "# Mouse Based User Identification \n",
    "Below is an analysis of dataset: https://huggingface.co/datasets/dejanseo/mouse_movement_tracking. \n",
    "\n",
    "The goal is to extract useful features from this mouse movement data - behavioral signals that could be unique to a user"
   ]
  },
  {
   "cell_type": "code",
   "execution_count": 167,
   "id": "a5511be5",
   "metadata": {},
   "outputs": [],
   "source": [
    "import pandas as pd \n",
    "import numpy as np\n",
    "import matplotlib.pyplot as plt\n",
    "from datasets import load_dataset\n",
    "\n",
    "cursor_data = load_dataset(\"dejanseo/mouse_movement_tracking\")"
   ]
  },
  {
   "cell_type": "code",
   "execution_count": 169,
   "id": "7a6742f9",
   "metadata": {},
   "outputs": [
    {
     "data": {
      "application/vnd.jupyter.widget-view+json": {
       "model_id": "83fc0088d45844458a590c905b4027b9",
       "version_major": 2,
       "version_minor": 0
      },
      "text/plain": [
       "VBox(children=(HTML(value='<center> <img\\nsrc=https://huggingface.co/front/assets/huggingface_logo-noborder.sv…"
      ]
     },
     "metadata": {},
     "output_type": "display_data"
    }
   ],
   "source": [
    "#Logging into huggingface: honestly not sure if needed (documentation says necessary)\n",
    "from huggingface_hub import notebook_login \n",
    "notebook_login() "
   ]
  },
  {
   "cell_type": "code",
   "execution_count": 170,
   "id": "51ce6368",
   "metadata": {},
   "outputs": [
    {
     "name": "stdout",
     "output_type": "stream",
     "text": [
      "DatasetDict({\n",
      "    train: Dataset({\n",
      "        features: ['session_id', 'timestamp', 'type', 'x', 'y', 'screen_width', 'screen_height', 'time_delta', 'x_prev', 'y_prev', 'dx', 'dy', 'distance', 'speed', 'datetime'],\n",
      "        num_rows: 685529\n",
      "    })\n",
      "})\n"
     ]
    }
   ],
   "source": [
    "print(cursor_data)\n",
    "#observations:685,529 raw mouse movement records in the train split "
   ]
  },
  {
   "cell_type": "code",
   "execution_count": 171,
   "id": "86a79a74",
   "metadata": {},
   "outputs": [],
   "source": [
    "#convert the train split to pandas\n",
    "df = cursor_data[\"train\"].to_pandas()"
   ]
  },
  {
   "cell_type": "code",
   "execution_count": 172,
   "id": "ced64476",
   "metadata": {},
   "outputs": [
    {
     "name": "stdout",
     "output_type": "stream",
     "text": [
      "<class 'pandas.core.frame.DataFrame'>\n",
      "RangeIndex: 685529 entries, 0 to 685528\n",
      "Data columns (total 15 columns):\n",
      " #   Column         Non-Null Count   Dtype         \n",
      "---  ------         --------------   -----         \n",
      " 0   session_id     685529 non-null  object        \n",
      " 1   timestamp      685529 non-null  int64         \n",
      " 2   type           685529 non-null  object        \n",
      " 3   x              673533 non-null  float64       \n",
      " 4   y              673533 non-null  float64       \n",
      " 5   screen_width   669085 non-null  float64       \n",
      " 6   screen_height  669085 non-null  float64       \n",
      " 7   time_delta     685529 non-null  float64       \n",
      " 8   x_prev         667257 non-null  float64       \n",
      " 9   y_prev         667257 non-null  float64       \n",
      " 10  dx             667257 non-null  float64       \n",
      " 11  dy             667257 non-null  float64       \n",
      " 12  distance       667257 non-null  float64       \n",
      " 13  speed          667257 non-null  float64       \n",
      " 14  datetime       685529 non-null  datetime64[ns]\n",
      "dtypes: datetime64[ns](1), float64(11), int64(1), object(2)\n",
      "memory usage: 78.5+ MB\n",
      "None\n",
      "          timestamp              x              y   screen_width  \\\n",
      "count  6.855290e+05  673533.000000  673533.000000  669085.000000   \n",
      "mean   1.741655e+12     871.231236     404.972364    1781.734775   \n",
      "std    3.822928e+08     392.846232     220.011952     460.959436   \n",
      "min    1.740748e+12    -160.000000    -146.000000     270.000000   \n",
      "25%    1.741313e+12     604.000000     252.000000    1531.000000   \n",
      "50%    1.741942e+12     830.000000     389.000000    1734.000000   \n",
      "75%    1.741963e+12    1077.000000     537.000000    1920.000000   \n",
      "max    1.741998e+12    4095.000000    1973.000000    4098.000000   \n",
      "\n",
      "       screen_height    time_delta         x_prev         y_prev  \\\n",
      "count  669085.000000  6.855290e+05  667257.000000  667257.000000   \n",
      "mean      918.234730  1.081548e+04     872.033993     405.670584   \n",
      "std       220.486613  1.210449e+06     392.200106     219.602829   \n",
      "min       375.000000  0.000000e+00    -160.000000    -146.000000   \n",
      "25%       770.000000  9.000000e+00     605.000000     253.000000   \n",
      "50%       911.000000  1.600000e+01     831.000000     390.000000   \n",
      "75%       958.000000  1.700000e+01    1078.000000     537.000000   \n",
      "max      2463.000000  4.325808e+08    4095.000000    1973.000000   \n",
      "\n",
      "                  dx             dy       distance          speed  \n",
      "count  667257.000000  667257.000000  667257.000000  667257.000000  \n",
      "mean        0.056755      -0.194252      14.954629       3.268552  \n",
      "std        48.852321      30.262757      55.486786      41.970367  \n",
      "min     -2333.000000   -1340.000000       0.000000       0.000000  \n",
      "25%        -2.000000      -1.000000       1.000000       0.076923  \n",
      "50%         0.000000       0.000000       3.162278       0.265165  \n",
      "75%         2.000000       1.000000      11.045361       0.875000  \n",
      "max      2892.000000    1319.000000    2892.001556    2892.001556  \n",
      "                       session_id      timestamp   type      x      y  \\\n",
      "0  session_1740747600010_n0ja7c6z  1740747600100  enter    NaN    NaN   \n",
      "1  session_1740749591318_8meh9m5x  1740749617826  click  246.0  575.0   \n",
      "2  session_1740749591318_8meh9m5x  1740749657779  click  662.0  550.0   \n",
      "3  session_1740749591318_8meh9m5x  1740749665512  click  498.0  279.0   \n",
      "4  session_1740749591318_8meh9m5x  1740749668991  click  511.0  324.0   \n",
      "\n",
      "   screen_width  screen_height  time_delta  x_prev  y_prev  dx  dy  distance  \\\n",
      "0           NaN            NaN         0.0     NaN     NaN NaN NaN       NaN   \n",
      "1           NaN            NaN         1.0     NaN     NaN NaN NaN       NaN   \n",
      "2           NaN            NaN         2.0     NaN     NaN NaN NaN       NaN   \n",
      "3           NaN            NaN       219.0     NaN     NaN NaN NaN       NaN   \n",
      "4           NaN            NaN       152.0     NaN     NaN NaN NaN       NaN   \n",
      "\n",
      "   speed                datetime  \n",
      "0    NaN 2025-02-28 13:00:00.100  \n",
      "1    NaN 2025-02-28 13:33:37.826  \n",
      "2    NaN 2025-02-28 13:34:17.779  \n",
      "3    NaN 2025-02-28 13:34:25.512  \n",
      "4    NaN 2025-02-28 13:34:28.991  \n",
      "session_id           0\n",
      "timestamp            0\n",
      "type                 0\n",
      "x                11996\n",
      "y                11996\n",
      "screen_width     16444\n",
      "screen_height    16444\n",
      "time_delta           0\n",
      "x_prev           18272\n",
      "y_prev           18272\n",
      "dx               18272\n",
      "dy               18272\n",
      "distance         18272\n",
      "speed            18272\n",
      "datetime             0\n",
      "dtype: int64\n"
     ]
    }
   ],
   "source": [
    "#some initial exploration\n",
    "print(df.info())\n",
    "print(df.describe()) \n",
    "print(df.head())\n",
    "print(df.isna().sum())"
   ]
  },
  {
   "cell_type": "code",
   "execution_count": 174,
   "id": "47448682",
   "metadata": {},
   "outputs": [],
   "source": [
    "#cleaning up data \n",
    "df['datetime'] = pd.to_datetime(df['datetime'])\n",
    "\n",
    "# Drop rows with NaNs or fill them appropriately\n",
    "df.dropna(inplace=True)\n",
    "\n",
    "# Optional: filter out rows with 0 speed or distance if that’s noise\n",
    "df = df[(df['speed'] > 0) & (df['distance'] > 0)]"
   ]
  },
  {
   "cell_type": "code",
   "execution_count": 176,
   "id": "c0c7499f",
   "metadata": {},
   "outputs": [],
   "source": [
    "#grouping by session_id so that I can process each session individually \n",
    "#each group contains all the mouse events (rows) for a single session\n",
    "session_features = df.groupby(\"session_id\").agg({\n",
    "    \"speed\": [\"mean\", \"std\", \"max\", \"min\"],\n",
    "    \"distance\": [\"mean\", \"std\", \"sum\"],\n",
    "    \"dx\": [\"mean\", \"std\"],\n",
    "    \"dy\": [\"mean\", \"std\"],\n",
    "    \"x\": [\"mean\", \"std\"],\n",
    "    \"y\": [\"mean\", \"std\"],\n",
    "    \"time_delta\": [\"mean\", \"std\", \"sum\"], \n",
    "})"
   ]
  },
  {
   "cell_type": "code",
   "execution_count": 177,
   "id": "617cfcf8",
   "metadata": {},
   "outputs": [],
   "source": [
    "#flattening columns \n",
    "session_features.columns = ['_'.join(col) for col in session_features.columns]\n",
    "session_features.reset_index(inplace=True)"
   ]
  },
  {
   "cell_type": "code",
   "execution_count": 178,
   "id": "41996a4d",
   "metadata": {},
   "outputs": [],
   "source": [
    "#directional and angular features\n",
    "#goal:caputuring the style/flow of how a person moves their cursor \n",
    "\n",
    "#calculating angle of the movement between two mouse points\n",
    "#Does the user tend to move in curves? straight lines? suddent directional changes?\n",
    "df[\"angle\"] = np.arctan2(df[\"dy\"], df[\"dx\"])\n",
    "\n",
    "#calculating the change in angle from one point to the next \n",
    "df[\"angle_diff\"] = df[\"angle\"].diff().abs()"
   ]
  },
  {
   "cell_type": "code",
   "execution_count": 200,
   "id": "acd93fc4",
   "metadata": {},
   "outputs": [],
   "source": [
    "#session-level angular stats\n",
    "angle_features = df.groupby(\"session_id\").agg({\n",
    "    \"angle_diff\": [\"mean\", \"std\", \"max\"]\n",
    "})"
   ]
  },
  {
   "cell_type": "code",
   "execution_count": 190,
   "id": "6d0a16a4",
   "metadata": {},
   "outputs": [],
   "source": [
    "#accleration features\n",
    "df[\"acceleration\"] = df[\"speed\"].diff() / df[\"time_delta\"]"
   ]
  },
  {
   "cell_type": "code",
   "execution_count": 192,
   "id": "949543ac",
   "metadata": {},
   "outputs": [],
   "source": [
    "#pause/idle behavior\n",
    "# Define a pause as time_delta > threshold (set to 500ms)\n",
    "df[\"is_pause\"] = df[\"time_delta\"] > 500\n",
    "\n",
    "pause_features = df.groupby(\"session_id\")[\"is_pause\"].sum().reset_index()\n",
    "pause_features.rename(columns={\"is_pause\": \"num_pauses\"}, inplace=True)"
   ]
  },
  {
   "cell_type": "code",
   "execution_count": 193,
   "id": "6e3069ba",
   "metadata": {},
   "outputs": [],
   "source": [
    "#normalize x and y based on screen size\n",
    "df[\"x_norm\"] = df[\"x\"] / df[\"screen_width\"]\n",
    "df[\"y_norm\"] = df[\"y\"] / df[\"screen_height\"]"
   ]
  },
  {
   "cell_type": "code",
   "execution_count": 194,
   "id": "58edcd11",
   "metadata": {},
   "outputs": [],
   "source": [
    "#tracking directional tendencies \n",
    "direction_features = df.groupby(\"session_id\").agg({\n",
    "    \"x_norm\": [\"mean\", \"std\"],\n",
    "    \"y_norm\": [\"mean\", \"std\"]\n",
    "})"
   ]
  },
  {
   "cell_type": "code",
   "execution_count": 204,
   "id": "3bef025d",
   "metadata": {},
   "outputs": [],
   "source": [
    "# Straightness\n",
    "def straightness_ratio(session):\n",
    "    start = session.iloc[0][[\"x\", \"y\"]]\n",
    "    end = session.iloc[-1][[\"x\", \"y\"]]\n",
    "    euclidean = np.linalg.norm(end - start)\n",
    "    path = session[\"distance\"].sum()\n",
    "    return euclidean / path if path > 0 else 0"
   ]
  },
  {
   "cell_type": "code",
   "execution_count": 207,
   "id": "feb4c46c",
   "metadata": {},
   "outputs": [],
   "source": [
    "# Count click events\n",
    "clicks = df[df[\"type\"] == \"click\"].groupby(\"session_id\").size()"
   ]
  },
  {
   "cell_type": "code",
   "execution_count": 212,
   "id": "d29aee3c",
   "metadata": {},
   "outputs": [
    {
     "data": {
      "image/png": "[encoded data removed]",
      "text/plain": [
       "<Figure size 800x600 with 2 Axes>"
      ]
     },
     "metadata": {},
     "output_type": "display_data"
    }
   ],
   "source": [
    "clicks_df = df[df[\"type\"] == \"click\"]\n",
    "\n",
    "plt.figure(figsize=(8, 6))\n",
    "plt.hexbin(clicks_df[\"x\"], clicks_df[\"y\"], gridsize=40, cmap=\"viridis\")\n",
    "plt.xlabel(\"X Position\")\n",
    "plt.ylabel(\"Y Position\")\n",
    "plt.title(\"Click Location Heatmap\")\n",
    "plt.colorbar(label=\"Click Frequency\")\n",
    "plt.gca().invert_yaxis()  # flip Y-axis if origin is top-left\n",
    "plt.show()\n"
   ]
  },
  {
   "cell_type": "code",
   "execution_count": 214,
   "id": "b1f50fb1",
   "metadata": {
    "scrolled": true
   },
   "outputs": [
    {
     "data": {
      "text/html": [
       "<div>\n",
       "<style scoped>\n",
       "    .dataframe tbody tr th:only-of-type {\n",
       "        vertical-align: middle;\n",
       "    }\n",
       "\n",
       "    .dataframe tbody tr th {\n",
       "        vertical-align: top;\n",
       "    }\n",
       "\n",
       "    .dataframe thead th {\n",
       "        text-align: right;\n",
       "    }\n",
       "</style>\n",
       "<table border=\"1\" class=\"dataframe\">\n",
       "  <thead>\n",
       "    <tr style=\"text-align: right;\">\n",
       "      <th></th>\n",
       "      <th>session_id</th>\n",
       "      <th>type</th>\n",
       "      <th>x</th>\n",
       "      <th>y</th>\n",
       "      <th>screen_width</th>\n",
       "      <th>screen_height</th>\n",
       "      <th>time_delta</th>\n",
       "      <th>x_prev</th>\n",
       "      <th>y_prev</th>\n",
       "      <th>dx</th>\n",
       "      <th>dy</th>\n",
       "      <th>distance</th>\n",
       "      <th>speed</th>\n",
       "      <th>datetime</th>\n",
       "      <th>angle</th>\n",
       "      <th>angle_diff</th>\n",
       "      <th>acceleration</th>\n",
       "      <th>is_pause</th>\n",
       "      <th>x_norm</th>\n",
       "      <th>y_norm</th>\n",
       "    </tr>\n",
       "    <tr>\n",
       "      <th>timestamp</th>\n",
       "      <th></th>\n",
       "      <th></th>\n",
       "      <th></th>\n",
       "      <th></th>\n",
       "      <th></th>\n",
       "      <th></th>\n",
       "      <th></th>\n",
       "      <th></th>\n",
       "      <th></th>\n",
       "      <th></th>\n",
       "      <th></th>\n",
       "      <th></th>\n",
       "      <th></th>\n",
       "      <th></th>\n",
       "      <th></th>\n",
       "      <th></th>\n",
       "      <th></th>\n",
       "      <th></th>\n",
       "      <th></th>\n",
       "      <th></th>\n",
       "    </tr>\n",
       "  </thead>\n",
       "  <tbody>\n",
       "    <tr>\n",
       "      <th>1970-01-01 00:29:00.749610111</th>\n",
       "      <td>session_1740749591318_8meh9m5x</td>\n",
       "      <td>move</td>\n",
       "      <td>816.0</td>\n",
       "      <td>759.0</td>\n",
       "      <td>1280.0</td>\n",
       "      <td>873.0</td>\n",
       "      <td>2897.0</td>\n",
       "      <td>837.0</td>\n",
       "      <td>771.0</td>\n",
       "      <td>-21.0</td>\n",
       "      <td>-12.0</td>\n",
       "      <td>24.186773</td>\n",
       "      <td>0.008349</td>\n",
       "      <td>2025-02-28 13:33:30.111</td>\n",
       "      <td>-2.622447</td>\n",
       "      <td>NaN</td>\n",
       "      <td>NaN</td>\n",
       "      <td>True</td>\n",
       "      <td>0.637500</td>\n",
       "      <td>0.869416</td>\n",
       "    </tr>\n",
       "    <tr>\n",
       "      <th>1970-01-01 00:29:00.749613831</th>\n",
       "      <td>session_1740749591318_8meh9m5x</td>\n",
       "      <td>move</td>\n",
       "      <td>826.0</td>\n",
       "      <td>763.0</td>\n",
       "      <td>1280.0</td>\n",
       "      <td>873.0</td>\n",
       "      <td>3720.0</td>\n",
       "      <td>816.0</td>\n",
       "      <td>759.0</td>\n",
       "      <td>10.0</td>\n",
       "      <td>4.0</td>\n",
       "      <td>10.770330</td>\n",
       "      <td>0.002895</td>\n",
       "      <td>2025-02-28 13:33:33.831</td>\n",
       "      <td>0.380506</td>\n",
       "      <td>3.002953</td>\n",
       "      <td>-0.000001</td>\n",
       "      <td>True</td>\n",
       "      <td>0.645312</td>\n",
       "      <td>0.873998</td>\n",
       "    </tr>\n",
       "    <tr>\n",
       "      <th>1970-01-01 00:29:00.749617654</th>\n",
       "      <td>session_1740749591318_8meh9m5x</td>\n",
       "      <td>move</td>\n",
       "      <td>366.0</td>\n",
       "      <td>574.0</td>\n",
       "      <td>1280.0</td>\n",
       "      <td>873.0</td>\n",
       "      <td>3823.0</td>\n",
       "      <td>826.0</td>\n",
       "      <td>763.0</td>\n",
       "      <td>-460.0</td>\n",
       "      <td>-189.0</td>\n",
       "      <td>497.313784</td>\n",
       "      <td>0.130085</td>\n",
       "      <td>2025-02-28 13:33:37.654</td>\n",
       "      <td>-2.751751</td>\n",
       "      <td>3.132258</td>\n",
       "      <td>0.000033</td>\n",
       "      <td>True</td>\n",
       "      <td>0.285938</td>\n",
       "      <td>0.657503</td>\n",
       "    </tr>\n",
       "    <tr>\n",
       "      <th>1970-01-01 00:29:00.749617675</th>\n",
       "      <td>session_1740749591318_8meh9m5x</td>\n",
       "      <td>move</td>\n",
       "      <td>457.0</td>\n",
       "      <td>574.0</td>\n",
       "      <td>1280.0</td>\n",
       "      <td>873.0</td>\n",
       "      <td>21.0</td>\n",
       "      <td>366.0</td>\n",
       "      <td>574.0</td>\n",
       "      <td>91.0</td>\n",
       "      <td>0.0</td>\n",
       "      <td>91.000000</td>\n",
       "      <td>4.333333</td>\n",
       "      <td>2025-02-28 13:33:37.675</td>\n",
       "      <td>0.000000</td>\n",
       "      <td>2.751751</td>\n",
       "      <td>0.200155</td>\n",
       "      <td>False</td>\n",
       "      <td>0.357031</td>\n",
       "      <td>0.657503</td>\n",
       "    </tr>\n",
       "    <tr>\n",
       "      <th>1970-01-01 00:29:00.749617699</th>\n",
       "      <td>session_1740749591318_8meh9m5x</td>\n",
       "      <td>move</td>\n",
       "      <td>467.0</td>\n",
       "      <td>574.0</td>\n",
       "      <td>1280.0</td>\n",
       "      <td>873.0</td>\n",
       "      <td>24.0</td>\n",
       "      <td>457.0</td>\n",
       "      <td>574.0</td>\n",
       "      <td>10.0</td>\n",
       "      <td>0.0</td>\n",
       "      <td>10.000000</td>\n",
       "      <td>0.416667</td>\n",
       "      <td>2025-02-28 13:33:37.699</td>\n",
       "      <td>0.000000</td>\n",
       "      <td>0.000000</td>\n",
       "      <td>-0.163194</td>\n",
       "      <td>False</td>\n",
       "      <td>0.364844</td>\n",
       "      <td>0.657503</td>\n",
       "    </tr>\n",
       "    <tr>\n",
       "      <th>1970-01-01 00:29:00.749617724</th>\n",
       "      <td>session_1740749591318_8meh9m5x</td>\n",
       "      <td>move</td>\n",
       "      <td>623.0</td>\n",
       "      <td>574.0</td>\n",
       "      <td>1280.0</td>\n",
       "      <td>873.0</td>\n",
       "      <td>25.0</td>\n",
       "      <td>467.0</td>\n",
       "      <td>574.0</td>\n",
       "      <td>156.0</td>\n",
       "      <td>0.0</td>\n",
       "      <td>156.000000</td>\n",
       "      <td>6.240000</td>\n",
       "      <td>2025-02-28 13:33:37.724</td>\n",
       "      <td>0.000000</td>\n",
       "      <td>0.000000</td>\n",
       "      <td>0.232933</td>\n",
       "      <td>False</td>\n",
       "      <td>0.486719</td>\n",
       "      <td>0.657503</td>\n",
       "    </tr>\n",
       "    <tr>\n",
       "      <th>1970-01-01 00:29:00.749617753</th>\n",
       "      <td>session_1740749591318_8meh9m5x</td>\n",
       "      <td>move</td>\n",
       "      <td>686.0</td>\n",
       "      <td>574.0</td>\n",
       "      <td>1280.0</td>\n",
       "      <td>873.0</td>\n",
       "      <td>29.0</td>\n",
       "      <td>623.0</td>\n",
       "      <td>574.0</td>\n",
       "      <td>63.0</td>\n",
       "      <td>0.0</td>\n",
       "      <td>63.000000</td>\n",
       "      <td>2.172414</td>\n",
       "      <td>2025-02-28 13:33:37.753</td>\n",
       "      <td>0.000000</td>\n",
       "      <td>0.000000</td>\n",
       "      <td>-0.140262</td>\n",
       "      <td>False</td>\n",
       "      <td>0.535937</td>\n",
       "      <td>0.657503</td>\n",
       "    </tr>\n",
       "    <tr>\n",
       "      <th>1970-01-01 00:29:00.749617768</th>\n",
       "      <td>session_1740749591318_8meh9m5x</td>\n",
       "      <td>move</td>\n",
       "      <td>696.0</td>\n",
       "      <td>574.0</td>\n",
       "      <td>1280.0</td>\n",
       "      <td>873.0</td>\n",
       "      <td>15.0</td>\n",
       "      <td>686.0</td>\n",
       "      <td>574.0</td>\n",
       "      <td>10.0</td>\n",
       "      <td>0.0</td>\n",
       "      <td>10.000000</td>\n",
       "      <td>0.666667</td>\n",
       "      <td>2025-02-28 13:33:37.768</td>\n",
       "      <td>0.000000</td>\n",
       "      <td>0.000000</td>\n",
       "      <td>-0.100383</td>\n",
       "      <td>False</td>\n",
       "      <td>0.543750</td>\n",
       "      <td>0.657503</td>\n",
       "    </tr>\n",
       "    <tr>\n",
       "      <th>1970-01-01 00:29:00.749617777</th>\n",
       "      <td>session_1740749591318_8meh9m5x</td>\n",
       "      <td>move</td>\n",
       "      <td>47.0</td>\n",
       "      <td>574.0</td>\n",
       "      <td>1280.0</td>\n",
       "      <td>873.0</td>\n",
       "      <td>9.0</td>\n",
       "      <td>696.0</td>\n",
       "      <td>574.0</td>\n",
       "      <td>-649.0</td>\n",
       "      <td>0.0</td>\n",
       "      <td>649.000000</td>\n",
       "      <td>72.111111</td>\n",
       "      <td>2025-02-28 13:33:37.777</td>\n",
       "      <td>3.141593</td>\n",
       "      <td>3.141593</td>\n",
       "      <td>7.938272</td>\n",
       "      <td>False</td>\n",
       "      <td>0.036719</td>\n",
       "      <td>0.657503</td>\n",
       "    </tr>\n",
       "    <tr>\n",
       "      <th>1970-01-01 00:29:00.749617793</th>\n",
       "      <td>session_1740749591318_8meh9m5x</td>\n",
       "      <td>move</td>\n",
       "      <td>120.0</td>\n",
       "      <td>574.0</td>\n",
       "      <td>1280.0</td>\n",
       "      <td>873.0</td>\n",
       "      <td>16.0</td>\n",
       "      <td>47.0</td>\n",
       "      <td>574.0</td>\n",
       "      <td>73.0</td>\n",
       "      <td>0.0</td>\n",
       "      <td>73.000000</td>\n",
       "      <td>4.562500</td>\n",
       "      <td>2025-02-28 13:33:37.793</td>\n",
       "      <td>0.000000</td>\n",
       "      <td>3.141593</td>\n",
       "      <td>-4.221788</td>\n",
       "      <td>False</td>\n",
       "      <td>0.093750</td>\n",
       "      <td>0.657503</td>\n",
       "    </tr>\n",
       "  </tbody>\n",
       "</table>\n",
       "</div>"
      ],
      "text/plain": [
       "                                                   session_id  type      x  \\\n",
       "timestamp                                                                    \n",
       "1970-01-01 00:29:00.749610111  session_1740749591318_8meh9m5x  move  816.0   \n",
       "1970-01-01 00:29:00.749613831  session_1740749591318_8meh9m5x  move  826.0   \n",
       "1970-01-01 00:29:00.749617654  session_1740749591318_8meh9m5x  move  366.0   \n",
       "1970-01-01 00:29:00.749617675  session_1740749591318_8meh9m5x  move  457.0   \n",
       "1970-01-01 00:29:00.749617699  session_1740749591318_8meh9m5x  move  467.0   \n",
       "1970-01-01 00:29:00.749617724  session_1740749591318_8meh9m5x  move  623.0   \n",
       "1970-01-01 00:29:00.749617753  session_1740749591318_8meh9m5x  move  686.0   \n",
       "1970-01-01 00:29:00.749617768  session_1740749591318_8meh9m5x  move  696.0   \n",
       "1970-01-01 00:29:00.749617777  session_1740749591318_8meh9m5x  move   47.0   \n",
       "1970-01-01 00:29:00.749617793  session_1740749591318_8meh9m5x  move  120.0   \n",
       "\n",
       "                                   y  screen_width  screen_height  time_delta  \\\n",
       "timestamp                                                                       \n",
       "1970-01-01 00:29:00.749610111  759.0        1280.0          873.0      2897.0   \n",
       "1970-01-01 00:29:00.749613831  763.0        1280.0          873.0      3720.0   \n",
       "1970-01-01 00:29:00.749617654  574.0        1280.0          873.0      3823.0   \n",
       "1970-01-01 00:29:00.749617675  574.0        1280.0          873.0        21.0   \n",
       "1970-01-01 00:29:00.749617699  574.0        1280.0          873.0        24.0   \n",
       "1970-01-01 00:29:00.749617724  574.0        1280.0          873.0        25.0   \n",
       "1970-01-01 00:29:00.749617753  574.0        1280.0          873.0        29.0   \n",
       "1970-01-01 00:29:00.749617768  574.0        1280.0          873.0        15.0   \n",
       "1970-01-01 00:29:00.749617777  574.0        1280.0          873.0         9.0   \n",
       "1970-01-01 00:29:00.749617793  574.0        1280.0          873.0        16.0   \n",
       "\n",
       "                               x_prev  y_prev     dx     dy    distance  \\\n",
       "timestamp                                                                 \n",
       "1970-01-01 00:29:00.749610111   837.0   771.0  -21.0  -12.0   24.186773   \n",
       "1970-01-01 00:29:00.749613831   816.0   759.0   10.0    4.0   10.770330   \n",
       "1970-01-01 00:29:00.749617654   826.0   763.0 -460.0 -189.0  497.313784   \n",
       "1970-01-01 00:29:00.749617675   366.0   574.0   91.0    0.0   91.000000   \n",
       "1970-01-01 00:29:00.749617699   457.0   574.0   10.0    0.0   10.000000   \n",
       "1970-01-01 00:29:00.749617724   467.0   574.0  156.0    0.0  156.000000   \n",
       "1970-01-01 00:29:00.749617753   623.0   574.0   63.0    0.0   63.000000   \n",
       "1970-01-01 00:29:00.749617768   686.0   574.0   10.0    0.0   10.000000   \n",
       "1970-01-01 00:29:00.749617777   696.0   574.0 -649.0    0.0  649.000000   \n",
       "1970-01-01 00:29:00.749617793    47.0   574.0   73.0    0.0   73.000000   \n",
       "\n",
       "                                   speed                datetime     angle  \\\n",
       "timestamp                                                                    \n",
       "1970-01-01 00:29:00.749610111   0.008349 2025-02-28 13:33:30.111 -2.622447   \n",
       "1970-01-01 00:29:00.749613831   0.002895 2025-02-28 13:33:33.831  0.380506   \n",
       "1970-01-01 00:29:00.749617654   0.130085 2025-02-28 13:33:37.654 -2.751751   \n",
       "1970-01-01 00:29:00.749617675   4.333333 2025-02-28 13:33:37.675  0.000000   \n",
       "1970-01-01 00:29:00.749617699   0.416667 2025-02-28 13:33:37.699  0.000000   \n",
       "1970-01-01 00:29:00.749617724   6.240000 2025-02-28 13:33:37.724  0.000000   \n",
       "1970-01-01 00:29:00.749617753   2.172414 2025-02-28 13:33:37.753  0.000000   \n",
       "1970-01-01 00:29:00.749617768   0.666667 2025-02-28 13:33:37.768  0.000000   \n",
       "1970-01-01 00:29:00.749617777  72.111111 2025-02-28 13:33:37.777  3.141593   \n",
       "1970-01-01 00:29:00.749617793   4.562500 2025-02-28 13:33:37.793  0.000000   \n",
       "\n",
       "                               angle_diff  acceleration  is_pause    x_norm  \\\n",
       "timestamp                                                                     \n",
       "1970-01-01 00:29:00.749610111         NaN           NaN      True  0.637500   \n",
       "1970-01-01 00:29:00.749613831    3.002953     -0.000001      True  0.645312   \n",
       "1970-01-01 00:29:00.749617654    3.132258      0.000033      True  0.285938   \n",
       "1970-01-01 00:29:00.749617675    2.751751      0.200155     False  0.357031   \n",
       "1970-01-01 00:29:00.749617699    0.000000     -0.163194     False  0.364844   \n",
       "1970-01-01 00:29:00.749617724    0.000000      0.232933     False  0.486719   \n",
       "1970-01-01 00:29:00.749617753    0.000000     -0.140262     False  0.535937   \n",
       "1970-01-01 00:29:00.749617768    0.000000     -0.100383     False  0.543750   \n",
       "1970-01-01 00:29:00.749617777    3.141593      7.938272     False  0.036719   \n",
       "1970-01-01 00:29:00.749617793    3.141593     -4.221788     False  0.093750   \n",
       "\n",
       "                                 y_norm  \n",
       "timestamp                                \n",
       "1970-01-01 00:29:00.749610111  0.869416  \n",
       "1970-01-01 00:29:00.749613831  0.873998  \n",
       "1970-01-01 00:29:00.749617654  0.657503  \n",
       "1970-01-01 00:29:00.749617675  0.657503  \n",
       "1970-01-01 00:29:00.749617699  0.657503  \n",
       "1970-01-01 00:29:00.749617724  0.657503  \n",
       "1970-01-01 00:29:00.749617753  0.657503  \n",
       "1970-01-01 00:29:00.749617768  0.657503  \n",
       "1970-01-01 00:29:00.749617777  0.657503  \n",
       "1970-01-01 00:29:00.749617793  0.657503  "
      ]
     },
     "execution_count": 214,
     "metadata": {},
     "output_type": "execute_result"
    }
   ],
   "source": [
    "#progress so far\n",
    "#view full dataset \n",
    "df.head(10)"
   ]
  },
  {
   "cell_type": "code",
   "execution_count": 217,
   "id": "4c671a4a",
   "metadata": {},
   "outputs": [
    {
     "name": "stdout",
     "output_type": "stream",
     "text": [
      "['move']\n"
     ]
    }
   ],
   "source": [
    "print(df[\"type\"].unique())"
   ]
  },
  {
   "cell_type": "code",
   "execution_count": 218,
   "id": "ce24c9be",
   "metadata": {},
   "outputs": [],
   "source": [
    "# Defining hover as staying within a small radius for a duration\n",
    "HOVER_RADIUS = 10  # pixels\n",
    "HOVER_TIME_THRESHOLD = 500  # ms\n",
    "\n",
    "df[\"within_hover_radius\"] = df[\"distance\"] < HOVER_RADIUS\n",
    "df[\"hover_candidate\"] = (df[\"within_hover_radius\"]) & (df[\"time_delta\"] > HOVER_TIME_THRESHOLD)\n",
    "\n",
    "hover_counts = df.groupby(\"session_id\")[\"hover_candidate\"].sum().reset_index()\n",
    "hover_counts.rename(columns={\"hover_candidate\": \"num_hovers\"}, inplace=True)"
   ]
  },
  {
   "cell_type": "code",
   "execution_count": 219,
   "id": "f7087275",
   "metadata": {},
   "outputs": [],
   "source": [
    "# Defining jitter as small erratic changes\n",
    "df[\"is_jitter\"] = df[\"distance\"] < 3\n",
    "jitter_counts = df.groupby(\"session_id\")[\"is_jitter\"].sum().reset_index()\n",
    "jitter_counts.rename(columns={\"is_jitter\": \"jitter_count\"}, inplace=True)"
   ]
  },
  {
   "cell_type": "code",
   "execution_count": 203,
   "id": "44bf0320",
   "metadata": {},
   "outputs": [
    {
     "data": {
      "text/plain": [
       "(606141, 21)"
      ]
     },
     "execution_count": 203,
     "metadata": {},
     "output_type": "execute_result"
    }
   ],
   "source": [
    "#check shape \n",
    "df.shape"
   ]
  },
  {
   "cell_type": "code",
   "execution_count": 198,
   "id": "275907db",
   "metadata": {},
   "outputs": [
    {
     "data": {
      "text/plain": [
       "Text(0, 0.5, 'Frequency')"
      ]
     },
     "execution_count": 198,
     "metadata": {},
     "output_type": "execute_result"
    },
    {
     "data": {
      "image/png": "[encoded data removed]",
      "text/plain": [
       "<Figure size 640x480 with 1 Axes>"
      ]
     },
     "metadata": {},
     "output_type": "display_data"
    }
   ],
   "source": [
    "#needs to be fixed. axi\n",
    "df['speed'].hist(bins=2)\n",
    "plt.title(\"Speed Distribution\")\n",
    "plt.xlabel(\"Speed\")\n",
    "plt.ylabel(\"Frequency\")"
   ]
  },
  {
   "cell_type": "code",
   "execution_count": 199,
   "id": "d7c83f80",
   "metadata": {},
   "outputs": [
    {
     "name": "stderr",
     "output_type": "stream",
     "text": [
      "C:\\Users\\nicol\\AppData\\Local\\Temp\\ipykernel_36512\\625185992.py:2: FutureWarning: merging between different levels is deprecated and will be removed in a future version. (1 levels on the left, 2 on the right)\n",
      "  final_df = session_features.merge(angle_features, on=\"session_id\")\n",
      "C:\\Users\\nicol\\AppData\\Local\\Temp\\ipykernel_36512\\625185992.py:4: FutureWarning: merging between different levels is deprecated and will be removed in a future version. (1 levels on the left, 2 on the right)\n",
      "  final_df = final_df.merge(direction_features, on=\"session_id\")\n"
     ]
    }
   ],
   "source": [
    "#merge into a single-session level dataframe for modeling \n",
    "final_df = session_features.merge(angle_features, on=\"session_id\")\n",
    "final_df = final_df.merge(pause_features, on=\"session_id\")\n",
    "final_df = final_df.merge(direction_features, on=\"session_id\")"
   ]
  },
  {
   "cell_type": "code",
   "execution_count": null,
   "id": "5ea578a9",
   "metadata": {},
   "outputs": [],
   "source": []
  },
  {
   "cell_type": "code",
   "execution_count": 65,
   "id": "fa73a6c6",
   "metadata": {
    "scrolled": true
   },
   "outputs": [
    {
     "name": "stdout",
     "output_type": "stream",
     "text": [
      "DatasetDict({\n",
      "    train: Dataset({\n",
      "        features: ['session_id', 'timestamp', 'type', 'x', 'y', 'screen_width', 'screen_height', 'time_delta', 'x_prev', 'y_prev', 'dx', 'dy', 'distance', 'speed', 'datetime'],\n",
      "        num_rows: 685529\n",
      "    })\n",
      "})\n"
     ]
    }
   ],
   "source": [
    "#checking the dataset object \n",
    "print(cursor_data)"
   ]
  },
  {
   "cell_type": "code",
   "execution_count": 66,
   "id": "a02f03d4",
   "metadata": {},
   "outputs": [
    {
     "name": "stdout",
     "output_type": "stream",
     "text": [
      "{'session_id': Value(dtype='string', id=None), 'timestamp': Value(dtype='int64', id=None), 'type': Value(dtype='string', id=None), 'x': Value(dtype='float64', id=None), 'y': Value(dtype='float64', id=None), 'screen_width': Value(dtype='float64', id=None), 'screen_height': Value(dtype='float64', id=None), 'time_delta': Value(dtype='float64', id=None), 'x_prev': Value(dtype='float64', id=None), 'y_prev': Value(dtype='float64', id=None), 'dx': Value(dtype='float64', id=None), 'dy': Value(dtype='float64', id=None), 'distance': Value(dtype='float64', id=None), 'speed': Value(dtype='float64', id=None), 'datetime': Value(dtype='timestamp[ns]', id=None)}\n"
     ]
    }
   ],
   "source": [
    "#checking column names and types \n",
    "print(cursor_data['train'].features)"
   ]
  },
  {
   "cell_type": "code",
   "execution_count": 112,
   "id": "d73bc897",
   "metadata": {},
   "outputs": [
    {
     "name": "stdout",
     "output_type": "stream",
     "text": [
      "session_id: 1991 unique values\n",
      "timestamp: 667186 unique values\n",
      "type: 4 unique values\n",
      "x: 2864 unique values\n",
      "y: 1522 unique values\n",
      "screen_width: 417 unique values\n",
      "screen_height: 492 unique values\n",
      "time_delta: 8976 unique values\n",
      "x_prev: 2864 unique values\n",
      "y_prev: 1520 unique values\n",
      "dx: 1838 unique values\n",
      "dy: 1339 unique values\n",
      "distance: 12070 unique values\n",
      "speed: 44723 unique values\n",
      "datetime: 667186 unique values\n"
     ]
    }
   ],
   "source": [
    "#show unique values per column\n",
    "for col in df.columns: \n",
    "    print(f\"{col}: {df[col].nunique()} unique values\")\n"
   ]
  }
 ],
 "metadata": {
  "kernelspec": {
   "display_name": "Python (Mouse Tracking)",
   "language": "python",
   "name": "mouse-env"
  },
  "language_info": {
   "codemirror_mode": {
    "name": "ipython",
    "version": 3
   },
   "file_extension": ".py",
   "mimetype": "text/x-python",
   "name": "python",
   "nbconvert_exporter": "python",
   "pygments_lexer": "ipython3",
   "version": "3.9.13"
  }
 },
 "nbformat": 4,
 "nbformat_minor": 5
}
